{
 "cells": [
  {
   "cell_type": "markdown",
   "id": "disabled-concept",
   "metadata": {},
   "source": [
    "# Perceptron\n",
    "\n"
   ]
  },
  {
   "cell_type": "code",
   "execution_count": 1,
   "id": "contrary-sense",
   "metadata": {},
   "outputs": [],
   "source": [
    "import numpy as np"
   ]
  },
  {
   "cell_type": "markdown",
   "id": "intended-sister",
   "metadata": {},
   "source": [
    "## Perceptron with Offset (non origin)\n",
    "\n",
    "First use initialization of weights as\n",
    "\n",
    "$ \\theta = np.zeros(2) $\n",
    "\n",
    "$ \\theta_0 = 0 $ \n",
    "\n",
    "Then switch initization to show lower mistakes\n",
    "\n",
    "$ \\theta = np.array([-1,1]) $\n",
    "\n",
    "$ \\theta_0 = -1 $\n",
    "\n",
    "\n"
   ]
  },
  {
   "cell_type": "code",
   "execution_count": 10,
   "id": "minimal-wallet",
   "metadata": {},
   "outputs": [],
   "source": [
    "# Set Givens\n",
    "\n",
    "x1 = [-4,2]\n",
    "x2 = [-2, 1]\n",
    "x3 = [-1, -1]\n",
    "x4 = [2, 2]\n",
    "x5 = [1, -2]\n",
    "\n",
    "y1 = 1\n",
    "y2 = 1\n",
    "y3 = -1\n",
    "y4 = -1\n",
    "y5 = -1"
   ]
  },
  {
   "cell_type": "code",
   "execution_count": 11,
   "id": "embedded-beast",
   "metadata": {},
   "outputs": [],
   "source": [
    "# Set Sets\n",
    "x = [x1, x2, x3, x4, x5]\n",
    "y = [y1, y2, y3, y4, y5]"
   ]
  },
  {
   "cell_type": "code",
   "execution_count": 12,
   "id": "offshore-approval",
   "metadata": {},
   "outputs": [],
   "source": [
    "# Variables\n",
    "T = 2\n",
    "theta = np.zeros(2)\n",
    "theta_0 = 0"
   ]
  },
  {
   "cell_type": "code",
   "execution_count": 13,
   "id": "toxic-psychiatry",
   "metadata": {},
   "outputs": [
    {
     "name": "stdout",
     "output_type": "stream",
     "text": [
      "1 0.0\n",
      "1 1.0\n",
      "-1 1.0\n",
      "-1 0.0\n",
      "-1 -1.0\n",
      "1 1.0\n",
      "1 1.0\n",
      "-1 1.0\n",
      "-1 -1.0\n",
      "-1 -1.0\n"
     ]
    }
   ],
   "source": [
    "# Build Perceptron\n",
    "\n",
    "\n",
    "for t in range(T):\n",
    "    for x_i, y_i in zip(x,y):\n",
    "        y_hat = np.dot(theta,x_i)+theta_0\n",
    "        y_hat = np.sign(y_hat)\n",
    "        error = y_i * y_hat\n",
    "        if error <= 0:\n",
    "            theta = theta + np.dot(y_i,x_i)\n",
    "            theta_0 = theta_0 + y_i\n",
    "        print(y_i, y_hat)\n",
    "\n"
   ]
  },
  {
   "cell_type": "code",
   "execution_count": 16,
   "id": "emerging-service",
   "metadata": {},
   "outputs": [
    {
     "data": {
      "text/plain": [
       "0"
      ]
     },
     "execution_count": 16,
     "metadata": {},
     "output_type": "execute_result"
    }
   ],
   "source": [
    "#  Tracking mistakes\n",
    "\n",
    "mistakes = 0\n",
    "theta = np.array([-1,1])\n",
    "theta_0 = -1\n",
    "\n",
    "for t in range(T):\n",
    "    for x_i, y_i in zip(x,y):\n",
    "        y_hat = np.dot(theta,x_i)+theta_0\n",
    "        y_hat = np.sign(y_hat)\n",
    "        error = y_i * y_hat\n",
    "        if error <= 0:\n",
    "            theta = theta + np.dot(y_i,x_i)\n",
    "            theta_0 = theta_0 + y_i\n",
    "        if y_hat != y_i:\n",
    "            mistakes += 1\n",
    "mistakes"
   ]
  },
  {
   "cell_type": "code",
   "execution_count": 15,
   "id": "forward-spencer",
   "metadata": {},
   "outputs": [
    {
     "name": "stdout",
     "output_type": "stream",
     "text": [
      "[-4.  2.] 1\n",
      "[-4.  2.] 1\n",
      "[-3.  3.] 0\n",
      "[-5.  1.] -1\n",
      "[-5.  1.] -1\n",
      "[-5.  1.] -1\n",
      "[-5.  1.] -1\n",
      "[-4.  2.] -2\n",
      "[-4.  2.] -2\n",
      "[-4.  2.] -2\n"
     ]
    }
   ],
   "source": [
    "# Progression of the hyperplane (changes in theta)\n",
    "theta = np.zeros(2)\n",
    "theta_0 = 0\n",
    "\n",
    "for t in range(T):\n",
    "    for x_i, y_i in zip(x,y):\n",
    "        y_hat = np.dot(theta,x_i)+theta_0\n",
    "        y_hat = np.sign(y_hat)\n",
    "        error = y_i * y_hat\n",
    "        if error <= 0:\n",
    "            theta = theta + np.dot(y_i,x_i)\n",
    "            theta_0 = theta_0 + y_i\n",
    "        print(theta, theta_0)\n",
    "        \n"
   ]
  },
  {
   "cell_type": "code",
   "execution_count": null,
   "id": "quantitative-skirt",
   "metadata": {},
   "outputs": [],
   "source": []
  }
 ],
 "metadata": {
  "kernelspec": {
   "display_name": "Python 3",
   "language": "python",
   "name": "python3"
  },
  "language_info": {
   "codemirror_mode": {
    "name": "ipython",
    "version": 3
   },
   "file_extension": ".py",
   "mimetype": "text/x-python",
   "name": "python",
   "nbconvert_exporter": "python",
   "pygments_lexer": "ipython3",
   "version": "3.7.9"
  }
 },
 "nbformat": 4,
 "nbformat_minor": 5
}
