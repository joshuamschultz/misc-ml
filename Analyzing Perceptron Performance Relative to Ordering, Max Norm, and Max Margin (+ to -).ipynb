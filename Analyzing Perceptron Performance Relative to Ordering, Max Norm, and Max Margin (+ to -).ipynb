{
 "cells": [
  {
   "cell_type": "markdown",
   "id": "disabled-concept",
   "metadata": {},
   "source": [
    "# Perceptron\n",
    "\n"
   ]
  },
  {
   "cell_type": "code",
   "execution_count": 51,
   "id": "contrary-sense",
   "metadata": {},
   "outputs": [],
   "source": [
    "import numpy as np"
   ]
  },
  {
   "cell_type": "markdown",
   "id": "intended-sister",
   "metadata": {},
   "source": [
    "Test x3 as [-1,1.5] and [-1,10]. you'll see that it takes longer to arrive at a solution (more mistakes and learning iterations)\n",
    "\n",
    "However, do the same thing starting with x2 in the set, and it learns right away. The closer to the large spread you start, the faster it learns. Initiation matters."
   ]
  },
  {
   "cell_type": "code",
   "execution_count": 121,
   "id": "minimal-wallet",
   "metadata": {},
   "outputs": [],
   "source": [
    "# Set Givens\n",
    "\n",
    "x1 = [-1,-1]\n",
    "x2 = [1,0]\n",
    "x3 = [-1,10]\n",
    "\n",
    "y1 = 1\n",
    "y2 = -1\n",
    "y3 = 1"
   ]
  },
  {
   "cell_type": "code",
   "execution_count": 127,
   "id": "embedded-beast",
   "metadata": {},
   "outputs": [],
   "source": [
    "# Set Sets\n",
    "x = [x2, x3, x1]\n",
    "y = [y2, y3, y1]"
   ]
  },
  {
   "cell_type": "code",
   "execution_count": 128,
   "id": "offshore-approval",
   "metadata": {},
   "outputs": [],
   "source": [
    "# Variables\n",
    "T = 10\n",
    "theta = np.zeros(2)"
   ]
  },
  {
   "cell_type": "code",
   "execution_count": 129,
   "id": "toxic-psychiatry",
   "metadata": {},
   "outputs": [
    {
     "name": "stdout",
     "output_type": "stream",
     "text": [
      "-1 0.0\n",
      "1 1.0\n",
      "1 1.0\n",
      "-1 -1.0\n",
      "1 1.0\n",
      "1 1.0\n",
      "-1 -1.0\n",
      "1 1.0\n",
      "1 1.0\n",
      "-1 -1.0\n",
      "1 1.0\n",
      "1 1.0\n",
      "-1 -1.0\n",
      "1 1.0\n",
      "1 1.0\n",
      "-1 -1.0\n",
      "1 1.0\n",
      "1 1.0\n",
      "-1 -1.0\n",
      "1 1.0\n",
      "1 1.0\n",
      "-1 -1.0\n",
      "1 1.0\n",
      "1 1.0\n",
      "-1 -1.0\n",
      "1 1.0\n",
      "1 1.0\n",
      "-1 -1.0\n",
      "1 1.0\n",
      "1 1.0\n"
     ]
    }
   ],
   "source": [
    "# Build Perceptron\n",
    "\n",
    "\n",
    "for t in range(T):\n",
    "    for x_i, y_i in zip(x,y):\n",
    "        y_hat = np.dot(theta,x_i)\n",
    "        y_hat = np.sign(y_hat)\n",
    "        error = y_i * y_hat\n",
    "        if error <= 0:\n",
    "            theta = theta + np.dot(y_i,x_i)\n",
    "        print(y_i, y_hat)\n",
    "\n"
   ]
  },
  {
   "cell_type": "code",
   "execution_count": 130,
   "id": "emerging-service",
   "metadata": {},
   "outputs": [
    {
     "data": {
      "text/plain": [
       "1"
      ]
     },
     "execution_count": 130,
     "metadata": {},
     "output_type": "execute_result"
    }
   ],
   "source": [
    "#  Tracking mistakes\n",
    "\n",
    "mistakes = 0\n",
    "theta = np.zeros(2)\n",
    "\n",
    "for t in range(T):\n",
    "    for x_i, y_i in zip(x,y):\n",
    "        y_hat = np.dot(theta.T,x_i)\n",
    "        y_hat = np.sign(y_hat)\n",
    "        error = y_i * y_hat\n",
    "        if error <= 0:\n",
    "            theta = theta + np.dot(y_i,x_i)\n",
    "        if y_hat != y_i:\n",
    "            mistakes += 1\n",
    "mistakes"
   ]
  },
  {
   "cell_type": "code",
   "execution_count": 131,
   "id": "forward-spencer",
   "metadata": {},
   "outputs": [
    {
     "name": "stdout",
     "output_type": "stream",
     "text": [
      "[-1.  0.]\n",
      "[-1.  0.]\n",
      "[-1.  0.]\n",
      "[-1.  0.]\n",
      "[-1.  0.]\n",
      "[-1.  0.]\n",
      "[-1.  0.]\n",
      "[-1.  0.]\n",
      "[-1.  0.]\n",
      "[-1.  0.]\n",
      "[-1.  0.]\n",
      "[-1.  0.]\n",
      "[-1.  0.]\n",
      "[-1.  0.]\n",
      "[-1.  0.]\n",
      "[-1.  0.]\n",
      "[-1.  0.]\n",
      "[-1.  0.]\n",
      "[-1.  0.]\n",
      "[-1.  0.]\n",
      "[-1.  0.]\n",
      "[-1.  0.]\n",
      "[-1.  0.]\n",
      "[-1.  0.]\n",
      "[-1.  0.]\n",
      "[-1.  0.]\n",
      "[-1.  0.]\n",
      "[-1.  0.]\n",
      "[-1.  0.]\n",
      "[-1.  0.]\n"
     ]
    }
   ],
   "source": [
    "# Progression of the hyperplane (changes in theta)\n",
    "theta = np.zeros(2)\n",
    "\n",
    "for t in range(T):\n",
    "    for x_i, y_i in zip(x,y):\n",
    "        y_hat = np.dot(theta.T,x_i)\n",
    "        y_hat = np.sign(y_hat)\n",
    "        error = y_i * y_hat\n",
    "        if error <= 0:\n",
    "            theta = theta + np.dot(y_i,x_i)\n",
    "        print(theta)\n",
    "        \n"
   ]
  }
 ],
 "metadata": {
  "kernelspec": {
   "display_name": "Python 3",
   "language": "python",
   "name": "python3"
  },
  "language_info": {
   "codemirror_mode": {
    "name": "ipython",
    "version": 3
   },
   "file_extension": ".py",
   "mimetype": "text/x-python",
   "name": "python",
   "nbconvert_exporter": "python",
   "pygments_lexer": "ipython3",
   "version": "3.7.9"
  }
 },
 "nbformat": 4,
 "nbformat_minor": 5
}
